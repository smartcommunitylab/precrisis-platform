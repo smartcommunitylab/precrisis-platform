{
  "cells": [
    {
      "cell_type": "code",
      "execution_count": null,
      "metadata": {
        "colab": {
          "base_uri": "https://localhost:8080/"
        },
        "id": "CWyFU4Ttu70f",
        "outputId": "fada4dd2-ae8f-469d-de5f-16c47cdfbb3b"
      },
      "outputs": [],
      "source": [
        "!pip install variationist"
      ]
    },
    {
      "cell_type": "code",
      "execution_count": null,
      "metadata": {
        "colab": {
          "base_uri": "https://localhost:8080/"
        },
        "id": "76xZ2_ZbflrB",
        "outputId": "03a7e60d-dfcf-485e-cfa5-81cb0e46de1b"
      },
      "outputs": [],
      "source": [
        "!pip install stopwordsiso"
      ]
    },
    {
      "cell_type": "code",
      "execution_count": 14,
      "metadata": {
        "id": "2eBHiDVTu0wO"
      },
      "outputs": [],
      "source": [
        "import pandas as pd\n",
        "from variationist import Inspector, InspectorArgs, Visualizer, VisualizerArgs"
      ]
    },
    {
      "cell_type": "code",
      "execution_count": 15,
      "metadata": {
        "id": "6NpYjlxqY_P1"
      },
      "outputs": [],
      "source": [
        "import stopwordsiso\n",
        "from wordcloud import WordCloud\n",
        "import matplotlib.pyplot as plt"
      ]
    },
    {
      "cell_type": "code",
      "execution_count": 16,
      "metadata": {
        "id": "h56VA_1LfziN"
      },
      "outputs": [],
      "source": [
        "english_stopwords = list(stopwordsiso.stopwords(\"en\"))\n",
        "english_stopwords.extend([\"super\", \"wien\", \"pause\", \"germany\", \"austria\", \"mega\", \"fein\", \"pre\", \"obwohl\", \"beste\", \"franzen\", \"lugar\", \"österreich\", \"imgur\", \"buffet\"])"
      ]
    },
    {
      "cell_type": "code",
      "execution_count": 17,
      "metadata": {
        "id": "LLbMI54-u-ip"
      },
      "outputs": [],
      "source": [
        "locations = ['Allianz_Stadion',\n",
        "             'Donauinsel',\n",
        "             'Ernst_Happel_Stadion',\n",
        "             'Heldenplatz',\n",
        "             'Rathausplatz',\n",
        "             'Schottenring',\n",
        "             'Waehring']"
      ]
    },
    {
      "cell_type": "code",
      "execution_count": 18,
      "metadata": {
        "colab": {
          "base_uri": "https://localhost:8080/"
        },
        "id": "kSzxuSohEwJf",
        "outputId": "28adb797-cd7f-4a21-d129-5e61155974d0"
      },
      "outputs": [],
      "source": [
        "# from google.colab import drive\n",
        "# drive.mount('/content/drive')"
      ]
    },
    {
      "cell_type": "markdown",
      "metadata": {
        "id": "Bd1PNq4G67JH"
      },
      "source": [
        "### Show distribution of emotions in Vienna locations.\n",
        "Here we take the average emotion scores for anger, anticipation, disgust, fear, joy, sadness, surprise, and trust, and show how their distribution changes across different areas of the city.\n"
      ]
    },
    {
      "cell_type": "code",
      "execution_count": 19,
      "metadata": {
        "id": "f35-wzn87Brt"
      },
      "outputs": [],
      "source": [
        "emotion_plot_data = {}\n",
        "\n",
        "emotions = [\"anger\", \"anticipation\", \"disgust\", \"fear\", \"joy\", \"sadness\", \"surprise\", \"trust\"]\n",
        "for location in locations:\n",
        "    emotion_distrib= []\n",
        "    dataframe = pd.read_csv(f\"./content3/precrisis-text-analysis/{location}_dataset_EmotionsNorm_mean.tsv\", sep=\"\\t\")\n",
        "    for emotion in emotions:\n",
        "        emotion_distrib.append(float(dataframe[emotion].values[0]))\n",
        "    emotion_plot_data[location] = emotion_distrib"
      ]
    },
    {
      "cell_type": "code",
      "execution_count": null,
      "metadata": {
        "id": "3t_ke8pyddjM"
      },
      "outputs": [],
      "source": []
    },
    {
      "cell_type": "code",
      "execution_count": null,
      "metadata": {
        "colab": {
          "base_uri": "https://localhost:8080/",
          "height": 1000
        },
        "id": "dpKBzSV-RGC8",
        "outputId": "ac0c6996-1948-468b-8c53-95896453f102"
      },
      "outputs": [],
      "source": [
        "cmap = plt.cm.gist_heat\n",
        "\n",
        "for location in locations:\n",
        "    print(\"\\n\\n\")\n",
        "    print(location)\n",
        "    fig1, ax1 = plt.subplots()\n",
        "    plt.rcParams['font.size'] = 10.5\n",
        "    explode = [0.005, 0.005, 0.005, 0.005, 0.005, 0.005, 0.005, 0.005]\n",
        "    outer_colors = [cmap(.5), cmap(.55), cmap(.6), cmap(.65), cmap(.7), cmap(.75), cmap(.8), cmap(.85)]\n",
        "    # outer_colors.reverse()\n",
        "    ax1.axis('equal')\n",
        "    _, _, autopcts = ax1.pie(emotion_plot_data[location], explode=explode, labels=emotions, autopct='%1.f%%', shadow=False,  pctdistance=0.8, radius=1, colors = outer_colors, startangle=270)\n",
        "    plt.setp(autopcts, **{'color':'black', 'fontsize':10})\n",
        "    centre_circle = plt.Circle((0,0),0.40,fc='white')\n",
        "    fig1.gca().add_artist(centre_circle)\n",
        "    plt.tight_layout()\n",
        "    plt.show()"
      ]
    },
    {
      "cell_type": "markdown",
      "metadata": {
        "id": "CXK0mOWZh2Yq"
      },
      "source": [
        "### Create wordclouds for each emotion\n",
        "Here, for each location we are analyzing, we create a word cloud for negative emotions: disgust, fear, and anger, showing the most relevant words for each emotion in a specific area. To calculate this, we used a modified version of PMI.\n"
      ]
    },
    {
      "cell_type": "code",
      "execution_count": null,
      "metadata": {
        "colab": {
          "base_uri": "https://localhost:8080/"
        },
        "id": "NxP5Yh-TRTlJ",
        "outputId": "a23d870b-078a-43c4-fb43-b49410daf455"
      },
      "outputs": [],
      "source": [
        "wordcloud_dict = {}\n",
        "res_dict = {}\n",
        "\n",
        "for location in locations:\n",
        "    dataframe = pd.read_csv(f\"./content3/precrisis-text-analysis/{location}_dataset_EmotionsNorm.tsv\", sep=\"\\t\")\n",
        "    print(location.upper())\n",
        "    wordcloud_dict[location] = {}\n",
        "    res_dict[location] = {}\n",
        "    for emotion in [\"nrcPosNegDict_Negative\"]:\n",
        "        curr_emotion = pd.cut(dataframe[emotion],bins=2,retbins=False,labels=[\"low\", \"high\"])\n",
        "        dataframe[emotion] = curr_emotion\n",
        "\n",
        "        ins_args = InspectorArgs(text_names=[\"text_prep\"],\n",
        "                            var_names=[emotion],\n",
        "                            var_types=[\"nominal\"],\n",
        "                            metrics=[\"npw_relevance\"],\n",
        "                            n_tokens=1,\n",
        "                            language=\"de\",\n",
        "                            stopwords=True,\n",
        "                            custom_stopwords=english_stopwords,\n",
        "                            lowercase=False\n",
        "                            )\n",
        "\n",
        "        # Run the inspector and get the results\n",
        "        res = Inspector(dataframe.dropna(), args=ins_args).inspect()\n",
        "        res_dict[location][emotion] = res\n",
        "        for bin in res[\"metrics\"][\"npw_relevance\"][emotion]:\n",
        "            if len(res[\"metrics\"][\"npw_relevance\"][emotion][bin]) > 2 and bin == \"high\":\n",
        "                print(res[\"metrics\"][\"npw_relevance\"][emotion][bin])\n",
        "                wc = WordCloud(font_path=\"./content3/precrisis-text-analysis/Symbola.otf\", width=800, height=400, max_words=20, background_color='white', colormap='gist_heat_r', random_state=4).generate_from_frequencies(res[\"metrics\"][\"npw_relevance\"][emotion][bin])\n",
        "                wordcloud_dict[location][emotion] = wc\n"
      ]
    },
    {
      "cell_type": "code",
      "execution_count": null,
      "metadata": {
        "colab": {
          "base_uri": "https://localhost:8080/"
        },
        "id": "dMbzPxmSwU2n",
        "outputId": "e75e8320-d469-4165-f7d3-deb061268a66"
      },
      "outputs": [],
      "source": [
        "wordcloud_dict['Donauinsel']"
      ]
    },
    {
      "cell_type": "code",
      "execution_count": null,
      "metadata": {
        "colab": {
          "base_uri": "https://localhost:8080/",
          "height": 1000
        },
        "id": "eVENVgYu8PFf",
        "outputId": "e525095a-9243-4872-c383-eafb3a66f0fb"
      },
      "outputs": [],
      "source": [
        "for location in wordcloud_dict:\n",
        "    for emotion in wordcloud_dict[location]:\n",
        "        wc = wordcloud_dict[location][emotion]\n",
        "        print(wc)\n",
        "        print(\"\\n\\n\")\n",
        "        print(f\"{location.upper()} - {emotion.split('_')[-1]} emotions\")\n",
        "        plt.imshow(wc, interpolation='bilinear')\n",
        "        plt.axis('off')\n",
        "        plt.show()"
      ]
    },
    {
      "cell_type": "code",
      "execution_count": null,
      "metadata": {},
      "outputs": [],
      "source": [
        "locations = ['Allianz_Stadion',\n",
        "             'Donauinsel',\n",
        "             'Ernst_Happel_Stadion',\n",
        "             'Heldenplatz',\n",
        "             'Rathausplatz',\n",
        "             'Schottenring',\n",
        "             'Waehring']\n",
        "emotions = [\"anger\", \"anticipation\", \"disgust\", \"fear\", \"joy\", \"sadness\", \"surprise\", \"trust\"]\n",
        "\n",
        "emotion_plot_data = []\n",
        "\n",
        "for location in locations:\n",
        "    dataframe = pd.read_csv(f\"./content3/precrisis-text-analysis/{location}_dataset_EmotionsNorm_mean.tsv\", sep=\"\\t\")\n",
        "    for emotion in emotions:\n",
        "        d = {\"city\": \"Vienna\",\"location\": location, \"emotion\": emotion, \"score\": float(dataframe[emotion].values[0])}\n",
        "        base = {\n",
        "                \"measurement\": \"emotions\",\n",
        "                \"tags\": d,\n",
        "                \"fields\": d,\n",
        "            }\n",
        "        emotion_plot_data.append(base)\n",
        "\n",
        "emotion_plot_data\n",
        "    \n",
        "\n"
      ]
    },
    {
      "cell_type": "code",
      "execution_count": null,
      "metadata": {},
      "outputs": [],
      "source": [
        "import base64\n",
        "\n",
        "plots = []\n",
        "for location in wordcloud_dict:\n",
        "    for emotion in wordcloud_dict[location]:\n",
        "        wc = wordcloud_dict[location][emotion]\n",
        "        print(\"\\n\\n\")\n",
        "        print(f\"{location.upper()} - {emotion.split('_')[-1]} emotions\")\n",
        "        plt.figure(figsize=(20, 20))\n",
        "        plt.imshow(wc, interpolation='bilinear')\n",
        "        plt.axis('off')\n",
        "        plt.savefig(\"myimage.png\", format='png')\n",
        "        with open(\"myimage.png\", \"rb\") as image_file:\n",
        "            encoded_string = base64.b64encode(image_file.read())\n",
        "            base = {\n",
        "                \"measurement\": \"wordclouds\",\n",
        "                \"tags\": {\"city\": \"Vienna\", \"location\": location},\n",
        "                \"fields\": {\"location\": location, \"image\": encoded_string.decode(\"utf-8\")},\n",
        "            }\n",
        "            plots.append(base)\n",
        "print(plots)"
      ]
    },
    {
      "cell_type": "code",
      "execution_count": 26,
      "metadata": {},
      "outputs": [],
      "source": [
        "import json\n",
        "all = emotion_plot_data + plots\n",
        "\n",
        "with open(\"text_analysis_vienna.json\", \"w\") as j:\n",
        "    json.dump(all, j)"
      ]
    }
  ],
  "metadata": {
    "colab": {
      "provenance": []
    },
    "kernelspec": {
      "display_name": "mapspoints",
      "language": "python",
      "name": "python3"
    },
    "language_info": {
      "codemirror_mode": {
        "name": "ipython",
        "version": 3
      },
      "file_extension": ".py",
      "mimetype": "text/x-python",
      "name": "python",
      "nbconvert_exporter": "python",
      "pygments_lexer": "ipython3",
      "version": "3.9.0"
    }
  },
  "nbformat": 4,
  "nbformat_minor": 0
}
